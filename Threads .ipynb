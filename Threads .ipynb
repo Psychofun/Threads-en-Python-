{
 "cells": [
  {
   "cell_type": "markdown",
   "metadata": {},
   "source": [
    "### Referencias: \n",
    "- __[blog](http://chriskiehl.com/article/parallelism-in-one-line/)__ \n",
    "- __[stackoverflow](https://stackoverflow.com/questions/2846653/how-to-use-threading-in-python)__\n",
    "    "
   ]
  },
  {
   "cell_type": "code",
   "execution_count": 1,
   "metadata": {},
   "outputs": [],
   "source": [
    "from multiprocessing.dummy import Pool as ThreadPool"
   ]
  },
  {
   "cell_type": "markdown",
   "metadata": {},
   "source": [
    "# Recuperar URLs"
   ]
  },
  {
   "cell_type": "code",
   "execution_count": 2,
   "metadata": {},
   "outputs": [
    {
     "name": "stdout",
     "output_type": "stream",
     "text": [
      "Type of results: <class 'list'>\n",
      "First 100 bytes: b'<!doctype html>\\n<!--[if lt IE 7]>   <html class=\"no-js ie6 lt-ie7 lt-ie8 lt-ie9\">   <![endif]-->\\n<!-'\n"
     ]
    }
   ],
   "source": [
    "from urllib.request import urlopen\n",
    "\n",
    "urls = [\n",
    "        'http://www.python.org', \n",
    "        'http://www.python.org/about/',\n",
    "        'http://www.onlamp.com/pub/a/python/2003/04/17/metaclasses.html',\n",
    "        'http://www.python.org/doc/',\n",
    "        'http://www.python.org/download/',\n",
    "        'http://www.python.org/getit/',\n",
    "        'http://www.python.org/community/',\n",
    "        'https://wiki.python.org/moin/',\n",
    "        'http://planet.python.org/',\n",
    "        'https://wiki.python.org/moin/LocalUserGroups',\n",
    "        'http://www.python.org/psf/',\n",
    "        'http://docs.python.org/devguide/',\n",
    "        'http://www.python.org/community/awards/'\n",
    "        # etc.. \n",
    "      ]\n",
    "\n",
    "# Crea los threads\n",
    "pool = ThreadPool()\n",
    "\n",
    "results = pool.map(urlopen, urls)\n",
    "\n",
    "print(\"Type of results:\", type(results))\n",
    "\n",
    "print(\"First 100 bytes:\",results[0].read(100))\n"
   ]
  },
  {
   "cell_type": "code",
   "execution_count": 3,
   "metadata": {},
   "outputs": [
    {
     "name": "stdout",
     "output_type": "stream",
     "text": [
      "Tiempo\n",
      "Un solo thread: 7.704044342041016 s\n",
      "4 Threads: 2.0134799480438232 s\n",
      "8 threads: 1.9450995922088623 s\n",
      "16 threads: 3.1559293270111084 s\n"
     ]
    }
   ],
   "source": [
    "import time\n",
    "results = [] \n",
    "t0 = time.time()\n",
    "for url in urls:\n",
    "    result = urlopen(url)\n",
    "    results.append(result)\n",
    "    \n",
    "print(\"Tiempo\")\n",
    "print(\"Un solo thread:\",time.time() - t0,\"s\")\n",
    "\n",
    "\n",
    "t0 = time.time()\n",
    "# # ------- 4 Pool ------- # \n",
    "pool = ThreadPool(4) \n",
    "results = pool.map(urlopen, urls)\n",
    "\n",
    "print(\"4 Threads:\",time.time() - t0,\"s\")\n",
    "\n",
    "\n",
    "t0 = time.time()\n",
    "# # ------- 8 Pool ------- # \n",
    "\n",
    "pool = ThreadPool(8) \n",
    "results = pool.map(urlopen, urls)\n",
    "\n",
    "print(\"8 threads:\",time.time() - t0,\"s\")\n",
    "\n",
    "# # ------- 16 Pool ------- # \n",
    "\n",
    "pool = ThreadPool(16) \n",
    "results = pool.map(urlopen, urls)\n",
    "print(\"16 threads:\",time.time() - t0,\"s\")"
   ]
  },
  {
   "cell_type": "markdown",
   "metadata": {},
   "source": [
    "# Imágenes a Escala de Grises. \n",
    "\n",
    "## `No ejecutes la celda de abajo desde el notebook`\n",
    "`Guarda la celda de abajo en un archivo .py.`\n",
    "<br>\n",
    "`Ejecuta el archivo desde una terminal o IDE`"
   ]
  },
  {
   "cell_type": "code",
   "execution_count": 7,
   "metadata": {},
   "outputs": [
    {
     "name": "stdout",
     "output_type": "stream",
     "text": [
      "Overwriting grayscale.py\n"
     ]
    }
   ],
   "source": [
    "%%writefile grayscale.py\n",
    "from multiprocessing.dummy import Pool as ThreadPool\n",
    "from PIL import Image\n",
    "import os\n",
    "from functools import partial\n",
    "import time\n",
    "\n",
    "\n",
    "def get_image_paths(folder):\n",
    "    return (os.path.join(folder, f) \n",
    "    for f in os.listdir(folder) \n",
    "      if 'jpeg' in f or \"jpg\" in f or \"png\" in f )\n",
    "\n",
    "\n",
    "\n",
    "def create_grayscale(filename,dir_grayscale): \n",
    "    \"\"\"\n",
    "    filename: String\n",
    "        filename of image to convert\n",
    "    dir_grayscale: String\n",
    "        dir to save new image in grayscale\n",
    "    \"\"\"\n",
    "    image_grayscale = Image.open(filename)\n",
    "    image_grayscale = image_grayscale.convert(\"RGBA\")\n",
    "    image_grayscale= image_grayscale.convert('LA')\n",
    "    \n",
    "    base,fname = os.path.split(filename)\n",
    "    fname, file_extension = os.path.splitext(fname)\n",
    "    \n",
    "    fname = fname + \".png\"\n",
    "    \n",
    "    path_grayscale = os.path.join(dir_grayscale, fname)\n",
    "    #print(\"Path to save\", path_grayscale)\n",
    "    image_grayscale.save(path_grayscale)\n",
    "    \n",
    "def images_to_grayscale(directory, dir_grayscale):\n",
    "    \"\"\"\n",
    "    directory: String\n",
    "        directory of images to convert\n",
    "    \"\"\"\n",
    "    images = get_image_paths(directory)\n",
    "    \n",
    "    if not os.path.exists(dir_grayscale):\n",
    "        #If not exist create directory inside working directory\n",
    "        os.makedirs(dir_grayscale)\n",
    "    for name_image in images:\n",
    "        create_grayscale(name_image,dir_grayscale)\n",
    "\n",
    "    \n",
    "        \n",
    "def images_to_grayscale_threading(directory, dir_grayscale):\n",
    "    \"\"\"\n",
    "    directory: String\n",
    "        directory of images to convert\n",
    "    \"\"\"\n",
    "    images = get_image_paths(directory)\n",
    "    \n",
    "    if not os.path.exists(dir_grayscale):\n",
    "        #If not exist create directory inside working directory\n",
    "        os.makedirs(dir_grayscale)\n",
    "    \n",
    "    create_grayscale_partial = partial(create_grayscale,dir_grayscale = dir_grayscale )\n",
    "    pool = ThreadPool() #Número de threads igual al número de núcleos en tu procesador.\n",
    "    pool.map(create_grayscale_partial, images)\n",
    "    \n",
    "\n",
    "\n",
    "\n",
    "if __name__ == \"__main__\":\n",
    "    directory = \"imagenes\"\n",
    "    dir_grayscale =\"imagenes_gris\"\n",
    "\n",
    "    t0 = time.time()\n",
    "    images_to_grayscale(directory, dir_grayscale)\n",
    "    print(\"Un solo thread:\",time.time() - t0,\"s\")\n",
    "\n",
    "    dir_grayscale =\"imagenes_gris_threading\"\n",
    "    t0 = time.time()\n",
    "    images_to_grayscale_threading(directory, dir_grayscale)\n",
    "    print(\"Varios threads:\",time.time() - t0,\"s\")\n",
    "\n"
   ]
  }
 ],
 "metadata": {
  "kernelspec": {
   "display_name": "Python py3",
   "language": "python",
   "name": "py3"
  },
  "language_info": {
   "codemirror_mode": {
    "name": "ipython",
    "version": 3
   },
   "file_extension": ".py",
   "mimetype": "text/x-python",
   "name": "python",
   "nbconvert_exporter": "python",
   "pygments_lexer": "ipython3",
   "version": "3.5.4"
  }
 },
 "nbformat": 4,
 "nbformat_minor": 2
}
